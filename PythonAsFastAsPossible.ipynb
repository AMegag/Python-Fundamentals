{
 "cells": [
  {
   "cell_type": "markdown",
   "id": "7425534a",
   "metadata": {},
   "source": [
    "### Created by Megag\n",
    "Summary of notes for anyone wishing to get through some of the fundamentals of Python."
   ]
  },
  {
   "cell_type": "markdown",
   "id": "a1227023",
   "metadata": {},
   "source": [
    "### Data Types"
   ]
  },
  {
   "cell_type": "code",
   "execution_count": 15,
   "id": "e68d9ba9",
   "metadata": {},
   "outputs": [
    {
     "data": {
      "text/plain": [
       "True"
      ]
     },
     "execution_count": 15,
     "metadata": {},
     "output_type": "execute_result"
    }
   ],
   "source": [
    "#Int - Any whole number that doesn't have a decimal point\n",
    "27\n",
    "#Float - Any number that has a decimal point even if it's a 0\n",
    "27.0\n",
    "#String - Anything surrounded by single ' ' or double quotation marks \" \"\n",
    "\"Hello\"\n",
    "#Bool - True or False\n",
    "True"
   ]
  },
  {
   "cell_type": "markdown",
   "id": "715ad880",
   "metadata": {},
   "source": [
    "### Output and Printing "
   ]
  },
  {
   "cell_type": "code",
   "execution_count": 27,
   "id": "1d6c6021",
   "metadata": {},
   "outputs": [
    {
     "name": "stdout",
     "output_type": "stream",
     "text": [
      "4.5 Hello False\n",
      "Hello\n"
     ]
    }
   ],
   "source": [
    "#Simple function print() typically things are placed in strings, however if you run without \n",
    "#strings it'll look for a variable unless this is a int or float or BOOL...\n",
    "# print(4.5)\n",
    "#If you wish to print multiple things you must add a comma e.g.\n",
    "print(4.5, \"Hello\", False)\n",
    "print(\"Hello\")"
   ]
  },
  {
   "cell_type": "code",
   "execution_count": 29,
   "id": "2c794f1a",
   "metadata": {},
   "outputs": [
    {
     "name": "stdout",
     "output_type": "stream",
     "text": [
      "4.5 Hello|Hello\n"
     ]
    }
   ],
   "source": [
    "#By default at the end of each print statement is an end='\\n' which moves to the next line\n",
    "#If you don't want this to happen and instead would like to place something else you would add what you'd like to\n",
    "#add within the quotation marks e.g. | in the below example.\n",
    "print(4.5, \"Hello\", end='|')\n",
    "print(\"Hello\")"
   ]
  },
  {
   "cell_type": "markdown",
   "id": "e985c868",
   "metadata": {},
   "source": [
    "## Variables "
   ]
  },
  {
   "cell_type": "code",
   "execution_count": 35,
   "id": "40107097",
   "metadata": {},
   "outputs": [
    {
     "name": "stdout",
     "output_type": "stream",
     "text": [
      "hello hello\n"
     ]
    }
   ],
   "source": [
    "#To create a variable simply type any word and use the = sign to assign it to some value. \n",
    "#You can call this variable by simply typing it following assignment.\n",
    "hello = \"hello\"\n",
    "world = hello\n",
    "print(hello, world)"
   ]
  },
  {
   "cell_type": "code",
   "execution_count": 38,
   "id": "09d6a366",
   "metadata": {},
   "outputs": [],
   "source": [
    "#Further you can assign variables to other variables as seen in the above. \n",
    "#Remember program reads from top to bottom. Therefore, the last assignment of the variable is taken."
   ]
  },
  {
   "cell_type": "code",
   "execution_count": 39,
   "id": "5a15d73a",
   "metadata": {},
   "outputs": [
    {
     "name": "stdout",
     "output_type": "stream",
     "text": [
      "no John\n"
     ]
    }
   ],
   "source": [
    "hello = \"John\" #First assignment of hello\n",
    "world = \"world\" #First assignment of world\n",
    "world = hello #Second assignmnet of world changes world to \"John\"\n",
    "hello = 'no' #Second assignment of hello changes hello to \"no\"\n",
    "print(hello, world) #As such we should get no John"
   ]
  },
  {
   "cell_type": "markdown",
   "id": "8224ed75",
   "metadata": {},
   "source": [
    "### Variables: Naming Conventions "
   ]
  },
  {
   "cell_type": "markdown",
   "id": "80299461",
   "metadata": {},
   "source": [
    "You are not allowed to have any special characters and can't start with a number. Underscores are the only special character allowed in naming a variable and usually these are used when denoting a space in programming this is called 'snake case' (e.g. hello_world), this is opposed to 'camel case' typically used in some other languages which uses capitals at the beginning of each word instead of a space e.g. HelloWorld"
   ]
  },
  {
   "cell_type": "markdown",
   "id": "f496f6a4",
   "metadata": {},
   "source": [
    "## User Input"
   ]
  },
  {
   "cell_type": "code",
   "execution_count": 43,
   "id": "a01001fb",
   "metadata": {},
   "outputs": [
    {
     "name": "stdout",
     "output_type": "stream",
     "text": [
      "What is your name? John\n",
      "How old are you? 55\n",
      "Hello John you are 55 years old\n"
     ]
    }
   ],
   "source": [
    "#Simply use the input function with parenthesis and use a string e.g.\n",
    "#Make sure to assign this to a variable\n",
    "User_name = input('What is your name? ')\n",
    "age = input('How old are you? ')\n",
    "print('Hello', User_name, 'you are', age, 'years old')"
   ]
  },
  {
   "cell_type": "markdown",
   "id": "151e747a",
   "metadata": {},
   "source": [
    "### Arithmetic Operators"
   ]
  },
  {
   "cell_type": "code",
   "execution_count": 48,
   "id": "3e54b780",
   "metadata": {},
   "outputs": [
    {
     "name": "stdout",
     "output_type": "stream",
     "text": [
      "3\n"
     ]
    }
   ],
   "source": [
    "#Make sure the datatypes on the left and right hand side of these operators also known as the operands are the same\n",
    "#data type or the same numbers e.g. you can't add 'hello' + 9 etc...\n",
    "#Further, if you're working with a float within the formula it'll simply return a float rather than an int even\n",
    "#if the other number is an int.\n",
    "x = 9 \n",
    "y = 3\n",
    "#Note: whenever you use division it returns a float. simply use int() to return to an integer value\n",
    "result = int(x/y)\n",
    "print(result)"
   ]
  },
  {
   "cell_type": "code",
   "execution_count": 49,
   "id": "3fcbfc12",
   "metadata": {},
   "outputs": [
    {
     "name": "stdout",
     "output_type": "stream",
     "text": [
      "Number: 10\n",
      "5\n"
     ]
    }
   ],
   "source": [
    "num = int(input('Number: ')) #Note whatever is input using input() returns a string i.e. you must cast as int.\n",
    "print(num-5)"
   ]
  },
  {
   "cell_type": "markdown",
   "id": "f8131dd0",
   "metadata": {},
   "source": [
    "Differing Operators\n",
    "1. ** exponents\n",
    "2. // Floor Division: returns integer result without decimal points\n",
    "3. % Modulus: returns the remainder following division of a number\n",
    "\n",
    "Remember Python follows the standard order of operations BODMAS: Brackets, Orders (powers/indices or roots), Division, Multiplication, Addition and Subtraction."
   ]
  },
  {
   "cell_type": "markdown",
   "id": "26d75d0a",
   "metadata": {},
   "source": [
    "### String Methods "
   ]
  },
  {
   "cell_type": "markdown",
   "id": "25818827",
   "metadata": {},
   "source": [
    "Using type() with a variable within the brackets will provide you with the datatype it is. Note: There are more datatypes than presented above when using other libraries e.g. pandas which also has series, objects etc...\n",
    "\n",
    "A method is simply something with a dot operator e.g. .upper() in this case it'll return upper case lettering of a string.\n",
    "Note: methods are generally datatype specific."
   ]
  },
  {
   "cell_type": "code",
   "execution_count": 55,
   "id": "7759472f",
   "metadata": {},
   "outputs": [
    {
     "data": {
      "text/plain": [
       "str"
      ]
     },
     "execution_count": 55,
     "metadata": {},
     "output_type": "execute_result"
    }
   ],
   "source": [
    "hello = 'hello World'\n",
    "type(hello)\n",
    "#The output below tells us that this variable is an instance of the class string."
   ]
  },
  {
   "cell_type": "code",
   "execution_count": 59,
   "id": "b047f4b4",
   "metadata": {},
   "outputs": [
    {
     "data": {
      "text/plain": [
       "1"
      ]
     },
     "execution_count": 59,
     "metadata": {},
     "output_type": "execute_result"
    }
   ],
   "source": [
    "#Example of method. Note methods generally are datatype specific.\n",
    "hello.upper()\n",
    "hello.lower()\n",
    "hello.capitalize()\n",
    "#Counts the number of whatever is in the quotation marks inside the variable. i.e. in hello world here.\n",
    "hello.count('ll') \n",
    "#Note you can also chain these."
   ]
  },
  {
   "cell_type": "code",
   "execution_count": 67,
   "id": "eefeeee0",
   "metadata": {},
   "outputs": [
    {
     "name": "stdout",
     "output_type": "stream",
     "text": [
      "hellohellohello\n"
     ]
    }
   ],
   "source": [
    "#String multiplication\n",
    "x = 'hello'\n",
    "y = 3\n",
    "#strings can be multiplied by an integer and it'll print the integer x amount of times w/o a space\n",
    "print(x*y)"
   ]
  },
  {
   "cell_type": "code",
   "execution_count": 66,
   "id": "dd069adf",
   "metadata": {},
   "outputs": [
    {
     "name": "stdout",
     "output_type": "stream",
     "text": [
      "HelloWorld\n"
     ]
    }
   ],
   "source": [
    "#String Addition\n",
    "x = 'Hello'\n",
    "y = 'World'\n",
    "#strings can be added together (concatenated) using the plus sign.\n",
    "print(x+y)"
   ]
  },
  {
   "cell_type": "markdown",
   "id": "515b6195",
   "metadata": {},
   "source": [
    "### Conditional Operators "
   ]
  },
  {
   "cell_type": "code",
   "execution_count": 68,
   "id": "6c47b922",
   "metadata": {},
   "outputs": [],
   "source": [
    "#Something that evaluates or compares two variables or datatypes and returns True or False e.g."
   ]
  },
  {
   "cell_type": "markdown",
   "id": "af3ed7bd",
   "metadata": {},
   "source": [
    "Core Conditional operators:\n",
    "1. Checks for equality == \n",
    "2. Checks for inequality !=\n",
    "3. Less than or equal to <=\n",
    "4. Greater than or equal to >= \n",
    "5. Less than <\n",
    "6. Greater than >"
   ]
  },
  {
   "cell_type": "code",
   "execution_count": 75,
   "id": "c4a757d0",
   "metadata": {},
   "outputs": [
    {
     "name": "stdout",
     "output_type": "stream",
     "text": [
      "True\n",
      "False\n",
      "False\n",
      "False\n"
     ]
    }
   ],
   "source": [
    "x = \"Hello\"\n",
    "y = \"Hello\"\n",
    "print(x == y) #Is x equal to y?\n",
    "print(x != y) #Is x not equal to y?\n",
    "print(x > y) #Is x greater than y?\n",
    "print(x < y) #Is x less than y?\n",
    "#Note: capitalisation matters and if a letter is capitalised it's looking at the correlating ASCII number for a letter"
   ]
  },
  {
   "cell_type": "code",
   "execution_count": 81,
   "id": "bebd0929",
   "metadata": {},
   "outputs": [
    {
     "name": "stdout",
     "output_type": "stream",
     "text": [
      "False\n",
      "97\n"
     ]
    }
   ],
   "source": [
    "#You can look at the ASCII code for a number by using print(ord('insert the number/letter'))\n",
    "print('a'>'b') #Will compare character by character.\n",
    "#Will evaluate to False as the ordinal value of a is 97 and b is 98. \n",
    "print(ord('a')) "
   ]
  },
  {
   "cell_type": "code",
   "execution_count": 86,
   "id": "b0cd16db",
   "metadata": {},
   "outputs": [
    {
     "name": "stdout",
     "output_type": "stream",
     "text": [
      "True\n"
     ]
    }
   ],
   "source": [
    "result = 6 == 6\n",
    "print(result)"
   ]
  },
  {
   "cell_type": "markdown",
   "id": "cb7c9967",
   "metadata": {},
   "source": [
    "### Chained Conditionals "
   ]
  },
  {
   "cell_type": "markdown",
   "id": "31225e64",
   "metadata": {},
   "source": [
    "Combining multiple conditions together to create one large condition\n",
    "\n",
    "You can write expressions on each side of a conditional operator and this will be completed before the condition is\n",
    "evaluated\n",
    "\n",
    "To chain conditionals you can use three different types of keywords which are:\n",
    "1. and. Checks if both are True or False and returns it.\n",
    "2. or. Checks whether the left hand side or right hand side is true then returns true otherwise false.\n",
    "3. not. Flips whether the result would be true or false to the opposite.\n",
    "\n",
    "Order of operations is not is first, and is second and is last!"
   ]
  },
  {
   "cell_type": "code",
   "execution_count": 95,
   "id": "bed9f91a",
   "metadata": {},
   "outputs": [
    {
     "name": "stdout",
     "output_type": "stream",
     "text": [
      "False\n"
     ]
    }
   ],
   "source": [
    "x = 7 \n",
    "y = 8\n",
    "z = 0\n",
    "\n",
    "result1 = x == y\n",
    "result2 = y > x\n",
    "result3 = z < x + 2\n",
    "\n",
    "print(result1 == result2)\n"
   ]
  },
  {
   "cell_type": "code",
   "execution_count": 102,
   "id": "2a1b6bce",
   "metadata": {},
   "outputs": [
    {
     "name": "stdout",
     "output_type": "stream",
     "text": [
      "False\n",
      "True\n",
      "False\n",
      "True\n",
      "False\n"
     ]
    }
   ],
   "source": [
    "print(not(True)) #Returns the opposite i.e. False\n",
    "print(not(False)) #Returns the opposite i.e. True\n",
    "print(False and True) #Will always return False first.\n",
    "print(False or True or False) #Prints True if ANY of these are true.\n",
    "print(False or not True or False) #Note the not negates the true and makes all False i.e. will return false"
   ]
  },
  {
   "cell_type": "markdown",
   "id": "d978d6a5",
   "metadata": {},
   "source": [
    "### If/Elif/Else "
   ]
  },
  {
   "cell_type": "code",
   "execution_count": 112,
   "id": "9dba3ea1",
   "metadata": {
    "collapsed": true
   },
   "outputs": [
    {
     "ename": "SyntaxError",
     "evalue": "EOL while scanning string literal (354106306.py, line 11)",
     "output_type": "error",
     "traceback": [
      "\u001b[0;36m  File \u001b[0;32m\"/var/folders/35/w0wmy3515znft0dvry379_ww0000gn/T/ipykernel_82928/354106306.py\"\u001b[0;36m, line \u001b[0;32m11\u001b[0m\n\u001b[0;31m    \"\"\"\"\u001b[0m\n\u001b[0m        \n^\u001b[0m\n\u001b[0;31mSyntaxError\u001b[0m\u001b[0;31m:\u001b[0m EOL while scanning string literal\n"
     ]
    }
   ],
   "source": [
    "\"\"\"\"\n",
    "Syntax to create if/elif/else statement\n",
    "if condition:\n",
    "    \"Whatever you want to happen\":\n",
    "    return \"something\"\n",
    "elif:\n",
    "    \"another condition\"\n",
    "    return \"Something else\"\n",
    "else:\n",
    "    return \"A catch all statement\"\n",
    "\"\"\"\"\n",
    "\n",
    "#Note you can also chain if statements by creating another layered if!"
   ]
  },
  {
   "cell_type": "code",
   "execution_count": 114,
   "id": "941f3adc",
   "metadata": {},
   "outputs": [
    {
     "name": "stdout",
     "output_type": "stream",
     "text": [
      "Name: Meg\n",
      "What's your last name? James\n",
      "Nice!\n"
     ]
    }
   ],
   "source": [
    "#Creation of a variable to request user input\n",
    "x = input('Name: ')\n",
    "\n",
    "if x == \"Meg\":\n",
    "    y = input(\"What's your last name? \")\n",
    "    if y== \"Griffin\": #Example of chained if statement.\n",
    "        print(\"Shut up Meg!\")\n",
    "    else:\n",
    "        print(\"Nice!\")\n",
    "\n",
    "elif x == \"Peter\":\n",
    "    print(\"Jelly Time!\")\n",
    "\n",
    "    \n",
    "else:\n",
    "    print(\"Sorry, I don't recognise you..\")"
   ]
  },
  {
   "cell_type": "markdown",
   "id": "a93f7bfb",
   "metadata": {},
   "source": [
    "## Section 2: Collections"
   ]
  },
  {
   "cell_type": "markdown",
   "id": "3f36ddeb",
   "metadata": {},
   "source": [
    "Collections are simply an unordered or ordered group of elements. "
   ]
  },
  {
   "cell_type": "markdown",
   "id": "69f09d02",
   "metadata": {},
   "source": [
    "### List/Tuples "
   ]
  },
  {
   "cell_type": "markdown",
   "id": "950be120",
   "metadata": {},
   "source": [
    "#### 1. Lists"
   ]
  },
  {
   "cell_type": "code",
   "execution_count": 129,
   "id": "148c5d1c",
   "metadata": {},
   "outputs": [
    {
     "data": {
      "text/plain": [
       "[4, 5, 6, 7.0, True, 'Hello', 'World', 4, 5, 6]"
      ]
     },
     "execution_count": 129,
     "metadata": {},
     "output_type": "execute_result"
    }
   ],
   "source": [
    "#Lists contain multiple elements which can be various datatypes and are ordered i.e. order matters!\n",
    "x = [4,5,6,7.0,True,\"Hello\"]\n",
    "x[5] #Can be used to find the nth element. Note: counts at zero...\n",
    "x.extend([4,5,6]) #Can be used to extend a list by another list\n",
    "x"
   ]
  },
  {
   "cell_type": "code",
   "execution_count": 132,
   "id": "3fffbed7",
   "metadata": {},
   "outputs": [
    {
     "name": "stdout",
     "output_type": "stream",
     "text": [
      "6\n"
     ]
    }
   ],
   "source": [
    "#Returning the length of the list\n",
    "x = [4,5,6,7.0,True,\"Hello\"]\n",
    "print(len(x)) "
   ]
  },
  {
   "cell_type": "code",
   "execution_count": 131,
   "id": "1d8f2f07",
   "metadata": {},
   "outputs": [
    {
     "name": "stdout",
     "output_type": "stream",
     "text": [
      "Hello\n"
     ]
    }
   ],
   "source": [
    "#Removing the last element from a list\n",
    "x = [4,5,6,7.0,True,\"Hello\"]\n",
    "print(x.pop()) "
   ]
  },
  {
   "cell_type": "code",
   "execution_count": 133,
   "id": "8778efff",
   "metadata": {},
   "outputs": [
    {
     "data": {
      "text/plain": [
       "[4, 5, 6, 7.0, True, 'Hello', 'World']"
      ]
     },
     "execution_count": 133,
     "metadata": {},
     "output_type": "execute_result"
    }
   ],
   "source": [
    "#Used to add another elment onto the list\n",
    "x.append('World') \n",
    "x"
   ]
  },
  {
   "cell_type": "code",
   "execution_count": 137,
   "id": "dd368688",
   "metadata": {},
   "outputs": [
    {
     "name": "stdout",
     "output_type": "stream",
     "text": [
      "['hello', True, 'hi'] [4, True, 'hi']\n"
     ]
    }
   ],
   "source": [
    "x = [4,True,'hi']\n",
    "#y=x #Would simply make a reference to the list and as x changes so does y\n",
    "y = x[:] # This would make a copy of the list i.e. future changes in x won't be seen\n",
    "x[0] = 'hello'\n",
    "print(x,y)"
   ]
  },
  {
   "cell_type": "markdown",
   "id": "29f6f23e",
   "metadata": {},
   "source": [
    "#### 2. Tuples "
   ]
  },
  {
   "cell_type": "markdown",
   "id": "26b7beec",
   "metadata": {},
   "source": [
    "Tuples are similar to lists, however are an imutable collection of elements. Think of it as a list that CANNOT be changed. To change it you must redefine it, can't use append item assignment etc."
   ]
  },
  {
   "cell_type": "code",
   "execution_count": 139,
   "id": "e2a96c9c",
   "metadata": {},
   "outputs": [
    {
     "ename": "AttributeError",
     "evalue": "'tuple' object has no attribute 'append'",
     "output_type": "error",
     "traceback": [
      "\u001b[0;31m---------------------------------------------------------------------------\u001b[0m",
      "\u001b[0;31mAttributeError\u001b[0m                            Traceback (most recent call last)",
      "\u001b[0;32m/var/folders/35/w0wmy3515znft0dvry379_ww0000gn/T/ipykernel_82928/2538277462.py\u001b[0m in \u001b[0;36m<module>\u001b[0;34m\u001b[0m\n\u001b[1;32m      1\u001b[0m \u001b[0mx\u001b[0m \u001b[0;34m=\u001b[0m \u001b[0;34m(\u001b[0m\u001b[0;36m0\u001b[0m\u001b[0;34m,\u001b[0m\u001b[0;36m0\u001b[0m\u001b[0;34m,\u001b[0m\u001b[0;36m2\u001b[0m\u001b[0;34m,\u001b[0m\u001b[0;36m2\u001b[0m\u001b[0;34m)\u001b[0m\u001b[0;34m\u001b[0m\u001b[0;34m\u001b[0m\u001b[0m\n\u001b[0;32m----> 2\u001b[0;31m \u001b[0mx\u001b[0m\u001b[0;34m.\u001b[0m\u001b[0mappend\u001b[0m\u001b[0;34m(\u001b[0m\u001b[0;36m3\u001b[0m\u001b[0;34m)\u001b[0m\u001b[0;34m\u001b[0m\u001b[0;34m\u001b[0m\u001b[0m\n\u001b[0m",
      "\u001b[0;31mAttributeError\u001b[0m: 'tuple' object has no attribute 'append'"
     ]
    }
   ],
   "source": [
    "x = (0,0,2,2)\n",
    "#x.append(3) #Note can't be changed..."
   ]
  },
  {
   "cell_type": "code",
   "execution_count": 141,
   "id": "1532911e",
   "metadata": {},
   "outputs": [],
   "source": [
    "#Note you can have lists inside of lists and tuples inside lists etc etc...\n",
    "x = [[\"Hello\",\"Yo\"],(2,3,4),[5,4,3]]"
   ]
  },
  {
   "cell_type": "markdown",
   "id": "fc0cf903",
   "metadata": {},
   "source": [
    "### For Loops "
   ]
  },
  {
   "cell_type": "markdown",
   "id": "5a61164a",
   "metadata": {},
   "source": [
    "Allows us to iterate a set number of times. This is as opposed to a while loop which is running a finite number of times\n"
   ]
  },
  {
   "cell_type": "code",
   "execution_count": 147,
   "id": "d2803b4d",
   "metadata": {},
   "outputs": [
    {
     "name": "stdout",
     "output_type": "stream",
     "text": [
      "5\n",
      "7\n",
      "9\n"
     ]
    }
   ],
   "source": [
    "#i is generally used as the iterator, but this can be anything e.g. number, character etc...\n",
    "#Range is a generator and creates a collection that is given. input is always start, stop, step.\n",
    "#1 argument will be only stop. Note: always starts from 0/1 still... e.g. range(10) will return 10 elements\n",
    "#2 arguments will be start, stop\n",
    "#3 arguments will be start, stop, step\n",
    "#in is a keyword that must always be used.\n",
    "for i in range(5,10,2):\n",
    "    print(i)"
   ]
  },
  {
   "cell_type": "code",
   "execution_count": 153,
   "id": "ca5679e4",
   "metadata": {},
   "outputs": [
    {
     "name": "stdout",
     "output_type": "stream",
     "text": [
      "1\n",
      "2\n",
      "3\n",
      "55\n"
     ]
    }
   ],
   "source": [
    "#Looping through a list\n",
    "x = [1,2,3,55]\n",
    "#This looks at the length of x and returns the values at each index.\n",
    "for i in range(len(x)):\n",
    "    print(x[i])"
   ]
  },
  {
   "cell_type": "markdown",
   "id": "ac6ff83f",
   "metadata": {},
   "source": [
    "#### Using a for loop with enumerate "
   ]
  },
  {
   "cell_type": "markdown",
   "id": "0a74bb7c",
   "metadata": {},
   "source": [
    "1. Using Enumerate: enumerate will create an index for each of the values within the list.\n",
    "2. there are two keywords in this case and these may be named as you wish e.g. a,b in this case it's i,element."
   ]
  },
  {
   "cell_type": "code",
   "execution_count": 162,
   "id": "068abc7b",
   "metadata": {},
   "outputs": [
    {
     "name": "stdout",
     "output_type": "stream",
     "text": [
      "0 1\n",
      "1 2\n",
      "2 3\n",
      "3 55\n"
     ]
    }
   ],
   "source": [
    "x = [1,2,3,55]\n",
    "#Must use a keyword after i e.g. element in this case to have them side by side.\n",
    "for i, element in enumerate(x):\n",
    "    #printing each value and the corresponding index position\n",
    "    print(i,element)"
   ]
  },
  {
   "cell_type": "markdown",
   "id": "26549e3b",
   "metadata": {},
   "source": [
    "### While Loops"
   ]
  },
  {
   "cell_type": "markdown",
   "id": "de1856e0",
   "metadata": {},
   "source": [
    "while a certain condition is true the loop continues to run. E.g.\n",
    "\n",
    "while condition == True:\n",
    "    return x"
   ]
  },
  {
   "cell_type": "code",
   "execution_count": 163,
   "id": "08670c5b",
   "metadata": {},
   "outputs": [
    {
     "name": "stdout",
     "output_type": "stream",
     "text": [
      "run\n",
      "run\n",
      "run\n",
      "run\n",
      "run\n",
      "run\n",
      "run\n",
      "run\n",
      "run\n",
      "run\n"
     ]
    }
   ],
   "source": [
    "x = [3,4,42,3,2,4]\n",
    "\n",
    "i = 0\n",
    "while i<10:\n",
    "    print('run')\n",
    "    i += 1\n",
    "#Note this will run 10 times"
   ]
  },
  {
   "cell_type": "code",
   "execution_count": 164,
   "id": "4e5b30b1",
   "metadata": {},
   "outputs": [
    {
     "name": "stdout",
     "output_type": "stream",
     "text": [
      "i is less than 10\n",
      "i is less than 10\n",
      "i is less than 10\n",
      "i is less than 10\n",
      "i is less than 10\n",
      "i is less than 10\n",
      "i is less than 10\n",
      "i is less than 10\n",
      "i is less than 10\n",
      "i is less than 10\n"
     ]
    }
   ],
   "source": [
    "#Implementing a break to stop at certain condition\n",
    "\n",
    "i = 0\n",
    "while True:\n",
    "    print('i is less than 10')\n",
    "    i += 1\n",
    "    if i == 10:\n",
    "        break\n",
    "\n",
    "#You can add another while loop within a while loop and in that case a break will be needed \n",
    "#Note global vs local scope here..."
   ]
  },
  {
   "cell_type": "markdown",
   "id": "25724853",
   "metadata": {},
   "source": [
    "### Slice Operators "
   ]
  },
  {
   "cell_type": "markdown",
   "id": "fc61f7df",
   "metadata": {},
   "source": [
    "Allows you to take a 'slice' or portion of a list, tuple etc and do something with it...\n",
    "\n",
    "Works with a [Start:Stop:Step] similar to the range function."
   ]
  },
  {
   "cell_type": "code",
   "execution_count": 170,
   "id": "bf39f69d",
   "metadata": {},
   "outputs": [
    {
     "name": "stdout",
     "output_type": "stream",
     "text": [
      "olleh\n"
     ]
    }
   ],
   "source": [
    "x = [0,1,2,3,4,5,6,7,8]\n",
    "y = ['hello','hi','goodbye','sure','cya']\n",
    "s = 'hello'\n",
    "\n",
    "#Can also be used to reverse a list or string using a negative step function.\n",
    "sliced = s[::-1]\n",
    "\n",
    "print(sliced)\n"
   ]
  },
  {
   "cell_type": "markdown",
   "id": "eaef522c",
   "metadata": {},
   "source": [
    "### Sets "
   ]
  },
  {
   "cell_type": "markdown",
   "id": "e312c253",
   "metadata": {},
   "source": [
    "An ordered unique collection of elements. No duplicates or order of elements tracked. Sets are great for lookups and are used generally when you care only whether something exists or not.\n",
    "\n",
    "Using a set also has an O constant. This is much faster than using a list."
   ]
  },
  {
   "cell_type": "code",
   "execution_count": 176,
   "id": "a605b564",
   "metadata": {},
   "outputs": [
    {
     "name": "stdout",
     "output_type": "stream",
     "text": [
      "{32, 2, 4}\n"
     ]
    }
   ],
   "source": [
    "#To create an empty set\n",
    "x = set()\n",
    "#However if you would like to create a set with numbers you would need to use the following format:\n",
    "s= {4,32,2,2}\n",
    "#The reason we use () as opposed to {} with an empty set is because the latter is also used for dictionaries.\n",
    "print(s) #Notice the duplicates are removed when we simply print it and the order is changed..."
   ]
  },
  {
   "cell_type": "code",
   "execution_count": 177,
   "id": "1ef6eb84",
   "metadata": {},
   "outputs": [
    {
     "name": "stdout",
     "output_type": "stream",
     "text": [
      "True\n"
     ]
    }
   ],
   "source": [
    "#Operations:\n",
    "s.add(5) #Used to add \n",
    "s.remove(2) #Used to remove an element\n",
    "\n",
    "print(4 in s) #Returns whether 4 is in the set s"
   ]
  },
  {
   "cell_type": "code",
   "execution_count": 183,
   "id": "703f5cb6",
   "metadata": {},
   "outputs": [
    {
     "name": "stdout",
     "output_type": "stream",
     "text": [
      "True\n",
      "False\n"
     ]
    }
   ],
   "source": [
    "s= {4,32,2,2}\n",
    "s2= {4,32,2,2,5}\n",
    "print(2 in s2)\n",
    "print(33 in s)"
   ]
  },
  {
   "cell_type": "code",
   "execution_count": 184,
   "id": "bb230550",
   "metadata": {},
   "outputs": [
    {
     "name": "stdout",
     "output_type": "stream",
     "text": [
      "{32, 2, 4}\n",
      "set()\n"
     ]
    }
   ],
   "source": [
    "print(s.intersection(s2)) # We can find the comonalities between two lists using intersection\n",
    "print(s.union(s2)) #We can add two sets together using union.\n",
    "print(s.difference(s2)) #Find the differences between the two sets."
   ]
  },
  {
   "cell_type": "markdown",
   "id": "584d16eb",
   "metadata": {},
   "source": [
    "### Dicts "
   ]
  },
  {
   "cell_type": "markdown",
   "id": "b17144ff",
   "metadata": {},
   "source": [
    "A key value pair. x = {'key':4) 4 is the value\n",
    "\n",
    "1. Key's don't need to be the same datatype as the pair value\n",
    "2. You can also add in a list as a value pair to a key"
   ]
  },
  {
   "cell_type": "code",
   "execution_count": 239,
   "id": "d62f44da",
   "metadata": {},
   "outputs": [
    {
     "name": "stdout",
     "output_type": "stream",
     "text": [
      "4\n"
     ]
    }
   ],
   "source": [
    "x = {'key':4}\n",
    "print(x['key']) #Returns the relevant value pair for the key"
   ]
  },
  {
   "cell_type": "code",
   "execution_count": 240,
   "id": "853ae59e",
   "metadata": {},
   "outputs": [
    {
     "data": {
      "text/plain": [
       "{'key': 4, 'key2': 5, 'key3': [1, 2, 3, 4, 5]}"
      ]
     },
     "execution_count": 240,
     "metadata": {},
     "output_type": "execute_result"
    }
   ],
   "source": [
    "x['key2'] = 5 #Can create a new key using the following format.\n",
    "x['key3'] = [1,2,3,4,5] #Adding a list as a value pair to the key...\n",
    "x"
   ]
  },
  {
   "cell_type": "code",
   "execution_count": 241,
   "id": "581df3c0",
   "metadata": {},
   "outputs": [
    {
     "name": "stdout",
     "output_type": "stream",
     "text": [
      "True\n",
      "True\n",
      "dict_keys(['key', 'key2', 'key3'])\n",
      "dict_values([4, 5, [1, 2, 3, 4, 5]])\n"
     ]
    }
   ],
   "source": [
    "print('key' in x.keys()) #Searching for whether a key is in the dictionary\n",
    "#del x['key'] #To delete something\n",
    "print(4 in x.values()) #Searching for whether a value is in the dictionary\n",
    "print(x.keys()) #Printing all the keys within the dictionary\n",
    "print(x.values()) #Printing all the values within the dictionary"
   ]
  },
  {
   "cell_type": "code",
   "execution_count": 242,
   "id": "f9cc7bb9",
   "metadata": {},
   "outputs": [
    {
     "name": "stdout",
     "output_type": "stream",
     "text": [
      "key 4\n",
      "key2 5\n",
      "key3 [1, 2, 3, 4, 5]\n"
     ]
    }
   ],
   "source": [
    "#To loop over a dictionary we can use:\n",
    "for key, value in x.items(): #if you want both the keys and values\n",
    "    print(key,value)"
   ]
  },
  {
   "cell_type": "code",
   "execution_count": 245,
   "id": "c378fdfa",
   "metadata": {},
   "outputs": [
    {
     "name": "stdout",
     "output_type": "stream",
     "text": [
      "key 4\n",
      "key2 5\n",
      "key3 [1, 2, 3, 4, 5]\n"
     ]
    }
   ],
   "source": [
    "#If you simply want the keys you can use:\n",
    "for key in x:\n",
    "    print(key, x[key]) #Then to access the key again can simply use x[key]"
   ]
  },
  {
   "cell_type": "markdown",
   "id": "c757ec49",
   "metadata": {},
   "source": [
    "### Comprehensions "
   ]
  },
  {
   "cell_type": "markdown",
   "id": "beea567b",
   "metadata": {},
   "source": [
    "One line initialisation of a list, tuple, dictionary etc..."
   ]
  },
  {
   "cell_type": "code",
   "execution_count": 249,
   "id": "1c7f105f",
   "metadata": {},
   "outputs": [
    {
     "name": "stdout",
     "output_type": "stream",
     "text": [
      "[0, 1, 2, 3, 4]\n"
     ]
    }
   ],
   "source": [
    "#Defining a for loop inside a list. Element on the left hand side is added into the list. i.e. x here.\n",
    "x = [x for x in range(5)]\n",
    "print(x)"
   ]
  },
  {
   "cell_type": "code",
   "execution_count": 259,
   "id": "8dcbe387",
   "metadata": {},
   "outputs": [
    {
     "name": "stdout",
     "output_type": "stream",
     "text": [
      "[0, 5, 10, 15, 20]\n"
     ]
    }
   ],
   "source": [
    "#You can multiply or manipulate the first element as you wish.\n",
    "x = [x*5 for x in range(5)]\n",
    "print(x)"
   ]
  },
  {
   "cell_type": "code",
   "execution_count": 262,
   "id": "b526240e",
   "metadata": {},
   "outputs": [
    {
     "name": "stdout",
     "output_type": "stream",
     "text": [
      "[[10, 10, 10, 10, 10, 10, 10, 10, 10, 10, 10, 10, 10, 10, 10, 10, 10, 10, 10, 10], [10, 10, 10, 10, 10, 10, 10, 10, 10, 10, 10, 10, 10, 10, 10, 10, 10, 10, 10, 10], [10, 10, 10, 10, 10, 10, 10, 10, 10, 10, 10, 10, 10, 10, 10, 10, 10, 10, 10, 10], [10, 10, 10, 10, 10, 10, 10, 10, 10, 10, 10, 10, 10, 10, 10, 10, 10, 10, 10, 10], [10, 10, 10, 10, 10, 10, 10, 10, 10, 10, 10, 10, 10, 10, 10, 10, 10, 10, 10, 10]]\n"
     ]
    }
   ],
   "source": [
    "#You can also loop multiple lists. In this example there are 5 lists of 20 elements and each element is 10.\n",
    "x = [[10 for x in range(20)] for x in range(5)]\n",
    "print(x)"
   ]
  },
  {
   "cell_type": "code",
   "execution_count": null,
   "id": "b598fa71",
   "metadata": {},
   "outputs": [],
   "source": [
    "#You can also loop multiple lists. In this example there are 5 lists of 20 elements and each element is 10.\n",
    "x = [[10 for x in range(20)] for x in range(5)]\n",
    "print(x)"
   ]
  },
  {
   "cell_type": "code",
   "execution_count": 263,
   "id": "6372ef8a",
   "metadata": {},
   "outputs": [
    {
     "name": "stdout",
     "output_type": "stream",
     "text": [
      "[0, 5, 10, 15, 20, 25, 30, 35, 40, 45, 50, 55, 60, 65, 70, 75, 80, 85, 90, 95]\n"
     ]
    }
   ],
   "source": [
    "#Essentially here we're looking for each element in range 100 that when divided by 5 has a remainder of 0\n",
    "#In simply terms everything divisible by 5\n",
    "x = [i for i in range(100) if i % 5 == 0]\n",
    "print(x)"
   ]
  },
  {
   "cell_type": "code",
   "execution_count": 281,
   "id": "509aa89a",
   "metadata": {},
   "outputs": [
    {
     "name": "stdout",
     "output_type": "stream",
     "text": [
      "{0: 0, 5: 0, 10: 0, 15: 0, 20: 0, 25: 0, 30: 0, 35: 0, 40: 0, 45: 0, 50: 0, 55: 0, 60: 0, 65: 0, 70: 0, 75: 0, 80: 0, 85: 0, 90: 0, 95: 0}\n"
     ]
    },
    {
     "data": {
      "text/plain": [
       "dict"
      ]
     },
     "execution_count": 281,
     "metadata": {},
     "output_type": "execute_result"
    }
   ],
   "source": [
    "#Furhter to the above we could create a dictionary with a key value pair for all numbers in the range.\n",
    "#Note the i:0 which creates the key:value pair alternatively removing this create a SET\n",
    "#x = {i for i in range(100) if i % 5 == 0} #Set format.\n",
    "x = {i:0 for i in range(100) if i % 5 == 0} #Dictionary format\n",
    "#x = tuple(i for i in range(100) if i % 5 == 0) #In tuple form. Removing the tuple casting will create a generator object\n",
    "\n",
    "print(x)\n",
    "type(x)"
   ]
  },
  {
   "cell_type": "markdown",
   "id": "89525798",
   "metadata": {},
   "source": [
    "### Functions "
   ]
  },
  {
   "cell_type": "markdown",
   "id": "7c7727f3",
   "metadata": {},
   "source": [
    "Functions are generally used when you want to reuse a code multiple times. You can even define functions within other functions if you wished to do so..."
   ]
  },
  {
   "cell_type": "code",
   "execution_count": 295,
   "id": "d1fba1af",
   "metadata": {},
   "outputs": [
    {
     "name": "stdout",
     "output_type": "stream",
     "text": [
      "Run\n"
     ]
    }
   ],
   "source": [
    "def func(): #Defining the function\n",
    "    print ('Run') #Returning an output\n",
    "func() #Calling the function"
   ]
  },
  {
   "cell_type": "code",
   "execution_count": 299,
   "id": "9478db67",
   "metadata": {},
   "outputs": [
    {
     "name": "stdout",
     "output_type": "stream",
     "text": [
      "Run 5 6\n",
      "(30, 0.8333333333333334)\n"
     ]
    }
   ],
   "source": [
    "def func(x, y): #Defining the function\n",
    "    print('Run',x,y) #Returning 'Run' and the x, y the individual has input into the argument when running function\n",
    "    return x * y, x/y #If you wish to return multiple things this will be returned in a tuple...\n",
    "\n",
    "print(func(5,6))"
   ]
  },
  {
   "cell_type": "code",
   "execution_count": 307,
   "id": "8086443c",
   "metadata": {},
   "outputs": [
    {
     "name": "stdout",
     "output_type": "stream",
     "text": [
      "Run 5 6\n",
      "30 0.8333333333333334\n"
     ]
    }
   ],
   "source": [
    "#Unpacking the tuple\n",
    "def func(x, y): \n",
    "    print('Run',x,y) \n",
    "    return x * y, x/y \n",
    "\n",
    "#func(5,6)[0] #To unpack the tuple you could simply use the index i.e. [0] or [1] in this case\n",
    "r1,r2 = func(5,6) #Alternatively, you could unpack them by redefining them as separate variables i.e. r1 = 5 etc here.\n",
    "print(r1,r2) #Printing the variables."
   ]
  },
  {
   "cell_type": "code",
   "execution_count": 317,
   "id": "b03ac203",
   "metadata": {},
   "outputs": [
    {
     "name": "stdout",
     "output_type": "stream",
     "text": [
      "Run 5 6 7\n",
      "30 0.8333333333333334 14\n"
     ]
    }
   ],
   "source": [
    "#Defining a default parameter for the function\n",
    "def func(x,y, z=None): #Simply use the = sign within the function here...\n",
    "    print('Run',x,y,z) #Noticed the none in the output (if z parameter is not entered in function)...\n",
    "    return x * y, x/y, z+z #Note you'll need to return something for z if calling it later...\n",
    "r1,r2,r3 = func(5,6,7) #Adding another data point within the func parameter will redefine z\n",
    "print(r1,r2,r3) "
   ]
  },
  {
   "cell_type": "code",
   "execution_count": 319,
   "id": "f892e7d5",
   "metadata": {},
   "outputs": [
    {
     "name": "stdout",
     "output_type": "stream",
     "text": [
      "3\n",
      "None\n"
     ]
    }
   ],
   "source": [
    "def func(x):\n",
    "    def func2():\n",
    "        print(x)  \n",
    "    return func2\n",
    "\n",
    "print(func(3)()) # We get None because there is nothing to return from func2 (4th line)\n",
    "\n",
    "x = func()"
   ]
  },
  {
   "cell_type": "markdown",
   "id": "6e6b98b6",
   "metadata": {},
   "source": [
    "### Args & **Kwargs "
   ]
  },
  {
   "cell_type": "markdown",
   "id": "ef9722c9",
   "metadata": {},
   "source": [
    "Args are used to unpack lists/tuples/sets. whereas kwargs are used to unpack dictionaries... \n",
    "\n",
    "1. Args = Arguments\n",
    "2. Kwargs = Keyword arguments\n",
    "\n",
    "**In simple terms use ** (kwargs) for dictionaries and * for all else to unpack...**"
   ]
  },
  {
   "cell_type": "code",
   "execution_count": 326,
   "id": "b3cff16a",
   "metadata": {},
   "outputs": [
    {
     "name": "stdout",
     "output_type": "stream",
     "text": [
      "{1, 236363, 23, 2727}\n",
      "1 236363 23 2727\n"
     ]
    }
   ],
   "source": [
    "def func(*args, **kwargs):\n",
    "    pass\n",
    "\n",
    "x = {1,23,236363,2727}\n",
    "print(x) #prints x\n",
    "print(*x) #Will print the numbers within x as if they were not in the list. here the * is unpacking the list..."
   ]
  },
  {
   "cell_type": "code",
   "execution_count": 335,
   "id": "0d6e5cda",
   "metadata": {},
   "outputs": [
    {
     "name": "stdout",
     "output_type": "stream",
     "text": [
      "1 2\n",
      "3 4\n"
     ]
    }
   ],
   "source": [
    "#Looping through a pair using args...\n",
    "def func(x, y):\n",
    "    print(x,y)\n",
    "    \n",
    "pairs = [(1,2),(3,4)]\n",
    "\n",
    "for pair in pairs:\n",
    "    func(*pair) #This will unpack the above list and pass it thru the for loop..."
   ]
  },
  {
   "cell_type": "code",
   "execution_count": 341,
   "id": "b69e0965",
   "metadata": {},
   "outputs": [
    {
     "name": "stdout",
     "output_type": "stream",
     "text": [
      "2 5\n"
     ]
    }
   ],
   "source": [
    "#Looping through a dictionary using kwargs...\n",
    "def func(x, y):\n",
    "    print(x,y)\n",
    "    \n",
    "func(**{'x':2,'y':5}) \n",
    "#func(**{'y':5,'x':2})#This will still work even if it is not in the correct order...\n",
    "#x represents argument x in function and y represents argument y in function..."
   ]
  },
  {
   "cell_type": "markdown",
   "id": "9c4784fd",
   "metadata": {},
   "source": [
    "**Now imagine you have a function and you don't know how many positional arguments or keyword arguments you want it to accept. Essentially you can use args and kwargs in order to pass in an unlimited amount of arguments and keyword arguments and then unpack them as seen below**"
   ]
  },
  {
   "cell_type": "code",
   "execution_count": 342,
   "id": "f1f66a7b",
   "metadata": {},
   "outputs": [
    {
     "name": "stdout",
     "output_type": "stream",
     "text": [
      "(1, 2, 3, 4, 5) {'one': 0, 'two': 1}\n"
     ]
    }
   ],
   "source": [
    "#Part1:\n",
    "#Unpacking an unknown amount of args/kwargs...\n",
    "def func(*args, **kwargs):\n",
    "    print(args, kwargs)\n",
    "    \n",
    "func(1,2,3,4,5,one=0,two=1)\n",
    "#See the output below produces a tuple with the arguments and the keyword arguments."
   ]
  },
  {
   "cell_type": "code",
   "execution_count": 353,
   "id": "0fd435bb",
   "metadata": {},
   "outputs": [
    {
     "name": "stdout",
     "output_type": "stream",
     "text": [
      "1 2 3 4 5\n"
     ]
    }
   ],
   "source": [
    "#Part2:\n",
    "def func(*args, **kwargs):\n",
    "    # print(*args) #This will simply unpack all the positional arguments\n",
    "    # print(**kwargs)#Note: you can't unpack kwargs in the same manner as one=0 and two=1 are not valid arguments for\n",
    "                    #For kwargs\n",
    "    print(*args) #This simply returns the \n",
    "    \n",
    "func(1,2,3,4,5,one=0,two=1)\n",
    "#See the output below produces a tuple with the arguments and the keyword arguments."
   ]
  },
  {
   "cell_type": "markdown",
   "id": "dd747d5f",
   "metadata": {},
   "source": [
    "### Scope & Globals"
   ]
  },
  {
   "cell_type": "markdown",
   "id": "318f4993",
   "metadata": {},
   "source": [
    "Globals belong to all work outside of a function, where as scope is only within a specific variable. e.g. defining a variable within a function will only define it within that function and not alter a variable outside of that function. In this example the variable was only altered locally (within the function)...\n",
    "\n",
    "Note you can access a global function locally, but not vice versa... THAT IS unless you use the 'global' key word in order to make a local variable defined globally... **This is almost never used**"
   ]
  },
  {
   "cell_type": "code",
   "execution_count": 355,
   "id": "016d0017",
   "metadata": {},
   "outputs": [
    {
     "name": "stdout",
     "output_type": "stream",
     "text": [
      "john\n",
      "changed\n"
     ]
    }
   ],
   "source": [
    "x = 'john' #Global x\n",
    "\n",
    "def func(name):\n",
    "    global x #Redefines the global function\n",
    "    x=name #Local function\n",
    "    \n",
    "print(x)\n",
    "func('changed')\n",
    "print(x)"
   ]
  },
  {
   "cell_type": "markdown",
   "id": "dcca8fde",
   "metadata": {},
   "source": [
    "### Exceptions "
   ]
  },
  {
   "cell_type": "markdown",
   "id": "14939ec8",
   "metadata": {},
   "source": [
    "Keyword 'raise' is used to make exceptions and errors. E.g. raise Exception, raise Runtimeerror etc etc... These can be used for when something is taking too long or to prevent breaking code etc..."
   ]
  },
  {
   "cell_type": "code",
   "execution_count": 357,
   "id": "f592d092",
   "metadata": {},
   "outputs": [
    {
     "ename": "Exception",
     "evalue": "Bad",
     "output_type": "error",
     "traceback": [
      "\u001b[0;31m---------------------------------------------------------------------------\u001b[0m",
      "\u001b[0;31mException\u001b[0m                                 Traceback (most recent call last)",
      "\u001b[0;32m/var/folders/35/w0wmy3515znft0dvry379_ww0000gn/T/ipykernel_82928/1879461773.py\u001b[0m in \u001b[0;36m<module>\u001b[0;34m\u001b[0m\n\u001b[1;32m      1\u001b[0m \u001b[0;31m#Example of raising an error\u001b[0m\u001b[0;34m\u001b[0m\u001b[0;34m\u001b[0m\u001b[0m\n\u001b[0;32m----> 2\u001b[0;31m \u001b[0;32mraise\u001b[0m \u001b[0mException\u001b[0m\u001b[0;34m(\u001b[0m\u001b[0;34m'Bad'\u001b[0m\u001b[0;34m)\u001b[0m\u001b[0;34m\u001b[0m\u001b[0;34m\u001b[0m\u001b[0m\n\u001b[0m\u001b[1;32m      3\u001b[0m \u001b[0;32mraise\u001b[0m \u001b[0mAssertionError\u001b[0m\u001b[0;34m(\u001b[0m\u001b[0;34m'No'\u001b[0m\u001b[0;34m)\u001b[0m\u001b[0;34m\u001b[0m\u001b[0;34m\u001b[0m\u001b[0m\n",
      "\u001b[0;31mException\u001b[0m: Bad"
     ]
    }
   ],
   "source": [
    "#Example of raising an error\n",
    "raise Exception('Bad')\n",
    "raise AssertionError('No')"
   ]
  },
  {
   "cell_type": "markdown",
   "id": "f6e20eb2",
   "metadata": {},
   "source": [
    "### Handling Exceptions "
   ]
  },
  {
   "cell_type": "markdown",
   "id": "734ac99c",
   "metadata": {},
   "source": [
    "These are used in order to prevent the code from crashing/stopping. Errors can be stored within a list for future reference etc... \n",
    "\n",
    "Python has a try except and finally format as seen below:"
   ]
  },
  {
   "cell_type": "code",
   "execution_count": 358,
   "id": "fddf7e24",
   "metadata": {},
   "outputs": [
    {
     "name": "stdout",
     "output_type": "stream",
     "text": [
      "division by zero\n"
     ]
    }
   ],
   "source": [
    "try:  #This will try to run the following code.\n",
    "    x = 7/0 #This produces a division by zero error\n",
    "except Exception as e: #An exception is created now and stored in the variable 'e'. \n",
    "    print(e)  #Note: this does not create an exception for a specific error unless specified, but catches ALL ERRORS."
   ]
  },
  {
   "cell_type": "markdown",
   "id": "563a643d",
   "metadata": {},
   "source": [
    "Imagine a scenario where you open a file then you write to the file and some error occurs. Even after the error you'd use the finally block in such a case to still close/save the file..."
   ]
  },
  {
   "cell_type": "code",
   "execution_count": 360,
   "id": "38f73f87",
   "metadata": {},
   "outputs": [
    {
     "name": "stdout",
     "output_type": "stream",
     "text": [
      "division by zero\n",
      "finally\n"
     ]
    }
   ],
   "source": [
    "try: #Trying some\n",
    "    x = 7/0\n",
    "except Exception as e: #Storing some exception in a variable\n",
    "    print(e) #Printing the error/s in the variable\n",
    "finally:\n",
    "    print('finally') #Completing some action that eneds to happen no matter what\n",
    "    "
   ]
  },
  {
   "cell_type": "markdown",
   "id": "d804e096",
   "metadata": {},
   "source": [
    "### Lambda "
   ]
  },
  {
   "cell_type": "markdown",
   "id": "06a096e3",
   "metadata": {},
   "source": [
    "**Essentially a one-line anonymous function. Therefore, it is not defined!**"
   ]
  },
  {
   "cell_type": "code",
   "execution_count": 361,
   "id": "cf16e62c",
   "metadata": {},
   "outputs": [
    {
     "name": "stdout",
     "output_type": "stream",
     "text": [
      "7\n"
     ]
    }
   ],
   "source": [
    "x = lambda x: x+5 #Defining the function in one line\n",
    "print(x(2)) #passing the argument 2 into the function. i.e. x(2 in this case) + 5 which is x+5"
   ]
  },
  {
   "cell_type": "code",
   "execution_count": 363,
   "id": "d2abdc90",
   "metadata": {},
   "outputs": [
    {
     "name": "stdout",
     "output_type": "stream",
     "text": [
      "7\n"
     ]
    }
   ],
   "source": [
    "x = lambda x,y: x+y #You can also introduce multiple variables in the line.\n",
    "print(x(2,5)) #This is passing x as 2 and y as 5 i.e. x+y = 7"
   ]
  },
  {
   "cell_type": "markdown",
   "id": "9f9ad97f",
   "metadata": {},
   "source": [
    "### Map & Filter "
   ]
  },
  {
   "cell_type": "markdown",
   "id": "ef1111b2",
   "metadata": {},
   "source": [
    "Map & Filter generally make use of the lambda function\n",
    "\n",
    "1. Map: will take all the elements of a list and will apply a function to each element in the list. Note: Map is returned as a 'map object'. As such, we should cast it into a list.\n",
    "2. Filter returns the elements which are true following the application of a function. Filter always expects two arguments."
   ]
  },
  {
   "cell_type": "code",
   "execution_count": 372,
   "id": "c16be38f",
   "metadata": {},
   "outputs": [
    {
     "name": "stdout",
     "output_type": "stream",
     "text": [
      "[3, 25, 5153, 850, 8, 11, 9, 10, 11]\n"
     ]
    }
   ],
   "source": [
    "x = [1,23,5151,848,6,9,7,8,9] \n",
    "\n",
    "mp = map(lambda i: i+2, x) #Map here takes each object and using lambda adds 2 to each element of the list.\n",
    "print(list(mp)) #Returns the output following the function above. Note: this is casted to a list."
   ]
  },
  {
   "cell_type": "code",
   "execution_count": 373,
   "id": "ba1ae075",
   "metadata": {},
   "outputs": [
    {
     "name": "stdout",
     "output_type": "stream",
     "text": [
      "[848, 6, 8]\n"
     ]
    }
   ],
   "source": [
    "x = [1,23,5151,848,6,9,7,8,9] \n",
    "\n",
    "mp = filter(lambda i: i%2==0, x) #filtering for the elements within the list that are divisible by two\n",
    "print(list(mp)) #Returning a list of the items that have a remainder of 0 when divided by two."
   ]
  },
  {
   "cell_type": "markdown",
   "id": "fe1e4a35",
   "metadata": {},
   "source": [
    "**Generally you don't want to define a function when you can simply define it in one line using lambda. However, the below is another use case with a function...**"
   ]
  },
  {
   "cell_type": "code",
   "execution_count": 386,
   "id": "0052092e",
   "metadata": {},
   "outputs": [
    {
     "name": "stdout",
     "output_type": "stream",
     "text": [
      "[848, 6, 8]\n"
     ]
    }
   ],
   "source": [
    "x = [1,23,5151,848,6,9,7,8,9] \n",
    "\n",
    "def func(i): #Creation of a new function with arg i\n",
    "    i = i*3 #we're creating a local variable i which is currently equal to none...\n",
    "    return i%2==0 \n",
    "    print(i)\n",
    "\n",
    "#Here we're using the filter keyword to return all items in list x which when passed into func are divisible by 0\n",
    "mp = filter(func,x) \n",
    "\n",
    "print(list(mp)) "
   ]
  },
  {
   "cell_type": "markdown",
   "id": "6a647f85",
   "metadata": {},
   "source": [
    "### F Strings "
   ]
  },
  {
   "cell_type": "markdown",
   "id": "87183b3e",
   "metadata": {},
   "source": [
    "**Used to embed an expression or place a predefined variable within a string.**\n",
    "\n",
    "Benefits:\n",
    "1. Easy to embed without formatting into another datatype\n",
    "2. Able to easily call another variable\n",
    "3. Able to perform math inside the string..."
   ]
  },
  {
   "cell_type": "code",
   "execution_count": 379,
   "id": "ddc0853f",
   "metadata": {},
   "outputs": [
    {
     "data": {
      "text/plain": [
       "'Six + 10 is equal to: 16'"
      ]
     },
     "execution_count": 379,
     "metadata": {},
     "output_type": "execute_result"
    }
   ],
   "source": [
    "#Use case with a mathematical expression\n",
    "x = f'Six + 10 is equal to: {6+10}'\n",
    "x"
   ]
  },
  {
   "cell_type": "code",
   "execution_count": 382,
   "id": "a06fc5ab",
   "metadata": {},
   "outputs": [
    {
     "name": "stdout",
     "output_type": "stream",
     "text": [
      "What is your name? Tool\n"
     ]
    },
    {
     "data": {
      "text/plain": [
       "'Your name is Tool! Cool name...'"
      ]
     },
     "execution_count": 382,
     "metadata": {},
     "output_type": "execute_result"
    }
   ],
   "source": [
    "#Use case whereby we're calling another variable which is input by the user.\n",
    "name = input(\"What is your name? \")\n",
    "x = f'Your name is {name}! Cool name...'\n",
    "x"
   ]
  },
  {
   "cell_type": "code",
   "execution_count": 385,
   "id": "b695015c",
   "metadata": {},
   "outputs": [
    {
     "name": "stdout",
     "output_type": "stream",
     "text": [
      "Hello Mr. Tool, aren't you 13?! You've come to the wrong place!!\n"
     ]
    }
   ],
   "source": [
    "#Use case when printing...\n",
    "print(f\"Hello Mr. {name}, aren't you {8+5}?! You've come to the wrong place!!\")"
   ]
  },
  {
   "cell_type": "markdown",
   "id": "bc8a93ba",
   "metadata": {},
   "source": [
    "### Further Operators:\n",
    "\n",
    "1. **+=** adds a number to a variable, changing the variable itself in the process (whereas + would not). Similar to this, there are the following that also modifies the variable:\n",
    "2. **-=** subtracts a value from variable, setting the variable to the result\n",
    "3. ***=** multiplies the variable and a value, making the outcome the variable\n",
    "4. **/=** divides the variable by the value, making the outcome the variable\n",
    "5. **//=** floor division for the variable\n",
    "6. **%=** performs modulus on the variable, with the variable then being set to the result of it\n"
   ]
  },
  {
   "cell_type": "code",
   "execution_count": 404,
   "id": "c018c71e",
   "metadata": {},
   "outputs": [
    {
     "data": {
      "text/plain": [
       "6"
      ]
     },
     "execution_count": 404,
     "metadata": {},
     "output_type": "execute_result"
    }
   ],
   "source": [
    "#The initial variable is equal to 5\n",
    "x=5\n",
    "#Using the += here we perform an addition of 1 to the original number.\n",
    "x+=1\n",
    "x"
   ]
  },
  {
   "cell_type": "code",
   "execution_count": 403,
   "id": "f82d56f7",
   "metadata": {},
   "outputs": [
    {
     "data": {
      "text/plain": [
       "6"
      ]
     },
     "execution_count": 403,
     "metadata": {},
     "output_type": "execute_result"
    }
   ],
   "source": [
    "#The above is essentially a short cut method to the following:\n",
    "x = 5\n",
    "x = x + 1\n",
    "x"
   ]
  }
 ],
 "metadata": {
  "kernelspec": {
   "display_name": "Python 3 (ipykernel)",
   "language": "python",
   "name": "python3"
  },
  "language_info": {
   "codemirror_mode": {
    "name": "ipython",
    "version": 3
   },
   "file_extension": ".py",
   "mimetype": "text/x-python",
   "name": "python",
   "nbconvert_exporter": "python",
   "pygments_lexer": "ipython3",
   "version": "3.9.7"
  }
 },
 "nbformat": 4,
 "nbformat_minor": 5
}
